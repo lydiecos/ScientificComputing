{
 "cells": [
  {
   "cell_type": "markdown",
   "metadata": {},
   "source": [
    "## Quick & Easy Plotting Data Using Pandas\n",
    "We can plot our summary stats using Pandas, too. First, to enable plots to appear in our notebook, we use the 'magic' command `%matplotlib inline`. (Note, if you use `%matplotlib notebook` instead, you get *interactive* plots, but they can be a bit less reliable...)\n",
    "\n",
    "Documentation on plotting in Pandas is here:<br> http://pandas.pydata.org/pandas-docs/stable/visualization.html#basic-plotting-plot\n",
    "\n",
    "Let't try a few examples:"
   ]
  },
  {
   "cell_type": "code",
   "execution_count": 1,
   "metadata": {},
   "outputs": [],
   "source": [
    "#Import pandas\n",
    "import pandas as pd\n",
    "# make sure figures appear inline in Ipython Notebook\n",
    "%matplotlib inline"
   ]
  },
  {
   "cell_type": "code",
   "execution_count": 2,
   "metadata": {},
   "outputs": [
    {
     "data": {
      "text/html": [
       "<div>\n",
       "<style scoped>\n",
       "    .dataframe tbody tr th:only-of-type {\n",
       "        vertical-align: middle;\n",
       "    }\n",
       "\n",
       "    .dataframe tbody tr th {\n",
       "        vertical-align: top;\n",
       "    }\n",
       "\n",
       "    .dataframe thead th {\n",
       "        text-align: right;\n",
       "    }\n",
       "</style>\n",
       "<table border=\"1\" class=\"dataframe\">\n",
       "  <thead>\n",
       "    <tr style=\"text-align: right;\">\n",
       "      <th></th>\n",
       "      <th>record_id</th>\n",
       "      <th>month</th>\n",
       "      <th>day</th>\n",
       "      <th>year</th>\n",
       "      <th>plot_id</th>\n",
       "      <th>species_id</th>\n",
       "      <th>sex</th>\n",
       "      <th>hindfoot_length</th>\n",
       "      <th>weight</th>\n",
       "    </tr>\n",
       "  </thead>\n",
       "  <tbody>\n",
       "    <tr>\n",
       "      <th>0</th>\n",
       "      <td>1</td>\n",
       "      <td>7</td>\n",
       "      <td>16</td>\n",
       "      <td>1977</td>\n",
       "      <td>2</td>\n",
       "      <td>NL</td>\n",
       "      <td>M</td>\n",
       "      <td>32.0</td>\n",
       "      <td>NaN</td>\n",
       "    </tr>\n",
       "    <tr>\n",
       "      <th>1</th>\n",
       "      <td>2</td>\n",
       "      <td>7</td>\n",
       "      <td>16</td>\n",
       "      <td>1977</td>\n",
       "      <td>3</td>\n",
       "      <td>NL</td>\n",
       "      <td>M</td>\n",
       "      <td>33.0</td>\n",
       "      <td>NaN</td>\n",
       "    </tr>\n",
       "    <tr>\n",
       "      <th>2</th>\n",
       "      <td>3</td>\n",
       "      <td>7</td>\n",
       "      <td>16</td>\n",
       "      <td>1977</td>\n",
       "      <td>2</td>\n",
       "      <td>DM</td>\n",
       "      <td>F</td>\n",
       "      <td>37.0</td>\n",
       "      <td>NaN</td>\n",
       "    </tr>\n",
       "    <tr>\n",
       "      <th>3</th>\n",
       "      <td>4</td>\n",
       "      <td>7</td>\n",
       "      <td>16</td>\n",
       "      <td>1977</td>\n",
       "      <td>7</td>\n",
       "      <td>DM</td>\n",
       "      <td>M</td>\n",
       "      <td>36.0</td>\n",
       "      <td>NaN</td>\n",
       "    </tr>\n",
       "    <tr>\n",
       "      <th>4</th>\n",
       "      <td>5</td>\n",
       "      <td>7</td>\n",
       "      <td>16</td>\n",
       "      <td>1977</td>\n",
       "      <td>3</td>\n",
       "      <td>DM</td>\n",
       "      <td>M</td>\n",
       "      <td>35.0</td>\n",
       "      <td>NaN</td>\n",
       "    </tr>\n",
       "  </tbody>\n",
       "</table>\n",
       "</div>"
      ],
      "text/plain": [
       "   record_id  month  day  year  plot_id species_id sex  hindfoot_length  \\\n",
       "0          1      7   16  1977        2         NL   M             32.0   \n",
       "1          2      7   16  1977        3         NL   M             33.0   \n",
       "2          3      7   16  1977        2         DM   F             37.0   \n",
       "3          4      7   16  1977        7         DM   M             36.0   \n",
       "4          5      7   16  1977        3         DM   M             35.0   \n",
       "\n",
       "   weight  \n",
       "0     NaN  \n",
       "1     NaN  \n",
       "2     NaN  \n",
       "3     NaN  \n",
       "4     NaN  "
      ]
     },
     "execution_count": 2,
     "metadata": {},
     "output_type": "execute_result"
    }
   ],
   "source": [
    "#Read in the surveys.csv file\n",
    "surveys_df = pd.read_csv('../data/surveys.csv')\n",
    "surveys_df.head()"
   ]
  },
  {
   "cell_type": "code",
   "execution_count": 3,
   "metadata": {},
   "outputs": [],
   "source": [
    "#Group data by species id and compute row counts\n",
    "species_counts = surveys_df.groupby('species_id')['record_id'].count()"
   ]
  },
  {
   "cell_type": "code",
   "execution_count": 4,
   "metadata": {},
   "outputs": [
    {
     "data": {
      "image/png": "[encoded data removed]",
      "text/plain": [
       "<Figure size 1080x216 with 1 Axes>"
      ]
     },
     "metadata": {
      "needs_background": "light"
     },
     "output_type": "display_data"
    }
   ],
   "source": [
    "# create a quick bar chart by setting `kind` to 'bar'\n",
    "species_counts.plot(kind='bar',\n",
    "                    figsize=(15,3),           #Sets the size of the plot\n",
    "                    title='Count by species', #Sets the title\n",
    "                    logy=True);               #Converts y axis to log scale"
   ]
  },
  {
   "cell_type": "markdown",
   "metadata": {},
   "source": [
    "---\n",
    "### <font color='red'>Challenge - Plots</font>\n",
    "1. Create a plot of **average weight** across all **species** per plot.<br>*Hint: you first need to summarize the data on plot_id, computing mean of the weigth column, then follow the syntax above.* "
   ]
  },
  {
   "cell_type": "code",
   "execution_count": 5,
   "metadata": {},
   "outputs": [
    {
     "data": {
      "image/png": "[encoded data removed]",
      "text/plain": [
       "<Figure size 720x288 with 1 Axes>"
      ]
     },
     "metadata": {
      "needs_background": "light"
     },
     "output_type": "display_data"
    }
   ],
   "source": [
    "#Challenge 1: Plot average weight per plot\n",
    "data = surveys_df.groupby('plot_id').mean()['weight']\n",
    "#Create a plot as the variable \"ax\"\n",
    "ax = data.plot(kind='bar',\n",
    "               title=\"Mean weight by plot\",\n",
    "               figsize = (10,4))\n",
    "#Set axis labels for the \"ax\" plot\n",
    "ax.set(xlabel='Plot ID',\n",
    "       ylabel='Mean weight (g)');"
   ]
  },
  {
   "cell_type": "markdown",
   "metadata": {},
   "source": [
    "2. Create a pie chart showing the proportion _record_ids_ of _males versus females_ for the entire dataset.  \n",
    "*Hint: you need to group on sex and then compute the count of record_ids in the resulting grouped object.* "
   ]
  },
  {
   "cell_type": "code",
   "execution_count": 6,
   "metadata": {},
   "outputs": [
    {
     "data": {
      "image/png": "[encoded data removed]",
      "text/plain": [
       "<Figure size 432x288 with 1 Axes>"
      ]
     },
     "metadata": {},
     "output_type": "display_data"
    }
   ],
   "source": [
    "#Challenge 2:\n",
    "data = surveys_df.groupby('sex').count()['record_id']\n",
    "data.plot(kind='pie',title='Total records, by sex');"
   ]
  },
  {
   "cell_type": "markdown",
   "metadata": {},
   "source": [
    "Some other options..."
   ]
  },
  {
   "cell_type": "code",
   "execution_count": 8,
   "metadata": {},
   "outputs": [
    {
     "data": {
      "image/png": "[encoded data removed]",
      "text/plain": [
       "<Figure size 1080x360 with 1 Axes>"
      ]
     },
     "metadata": {
      "needs_background": "light"
     },
     "output_type": "display_data"
    }
   ],
   "source": [
    "#Pandas has lots of plotting options...\n",
    "surveys_df.boxplot(column=['weight'],by='month',figsize=(15,5));"
   ]
  },
  {
   "cell_type": "markdown",
   "metadata": {},
   "source": [
    "---\n",
    "### Advanced Plotting...</font>\n",
    "Create a stacked bar plot, with weight on the Y axis, and the stacked variable being `sex`. The plot should show total weight by sex for each plot. Some tips are below to help you solve this challenge:\n",
    "\n",
    "* For more on Pandas plots, visit this link: http://pandas.pydata.org/pandas-docs/stable/visualization.html#basic-plotting-plot\n",
    "* You can use the code that follows to create a stacked bar plot but the data to stack need to be in individual columns. Here’s a simple example with some data where ‘a’, ‘b’, and ‘c’ are the groups, and ‘one’ and ‘two’ are the subgroups."
   ]
  },
  {
   "cell_type": "code",
   "execution_count": 9,
   "metadata": {},
   "outputs": [
    {
     "data": {
      "text/html": [
       "<div>\n",
       "<style scoped>\n",
       "    .dataframe tbody tr th:only-of-type {\n",
       "        vertical-align: middle;\n",
       "    }\n",
       "\n",
       "    .dataframe tbody tr th {\n",
       "        vertical-align: top;\n",
       "    }\n",
       "\n",
       "    .dataframe thead th {\n",
       "        text-align: right;\n",
       "    }\n",
       "</style>\n",
       "<table border=\"1\" class=\"dataframe\">\n",
       "  <thead>\n",
       "    <tr style=\"text-align: right;\">\n",
       "      <th></th>\n",
       "      <th>one</th>\n",
       "      <th>two</th>\n",
       "    </tr>\n",
       "  </thead>\n",
       "  <tbody>\n",
       "    <tr>\n",
       "      <th>a</th>\n",
       "      <td>1.0</td>\n",
       "      <td>1.0</td>\n",
       "    </tr>\n",
       "    <tr>\n",
       "      <th>b</th>\n",
       "      <td>2.0</td>\n",
       "      <td>2.0</td>\n",
       "    </tr>\n",
       "    <tr>\n",
       "      <th>c</th>\n",
       "      <td>3.0</td>\n",
       "      <td>3.0</td>\n",
       "    </tr>\n",
       "    <tr>\n",
       "      <th>d</th>\n",
       "      <td>NaN</td>\n",
       "      <td>4.0</td>\n",
       "    </tr>\n",
       "  </tbody>\n",
       "</table>\n",
       "</div>"
      ],
      "text/plain": [
       "   one  two\n",
       "a  1.0  1.0\n",
       "b  2.0  2.0\n",
       "c  3.0  3.0\n",
       "d  NaN  4.0"
      ]
     },
     "execution_count": 9,
     "metadata": {},
     "output_type": "execute_result"
    }
   ],
   "source": [
    "d = {'one' : pd.Series([1., 2., 3.], \n",
    "                       index=['a', 'b', 'c']),\n",
    "     'two' : pd.Series([1., 2., 3., 4.], \n",
    "                       index=['a', 'b', 'c', 'd'])}\n",
    "pd.DataFrame(d)"
   ]
  },
  {
   "cell_type": "markdown",
   "metadata": {},
   "source": [
    "We can plot the above with:"
   ]
  },
  {
   "cell_type": "code",
   "execution_count": 10,
   "metadata": {},
   "outputs": [
    {
     "data": {
      "image/png": "[encoded data removed]",
      "text/plain": [
       "<Figure size 432x288 with 1 Axes>"
      ]
     },
     "metadata": {
      "needs_background": "light"
     },
     "output_type": "display_data"
    }
   ],
   "source": [
    "# plot stacked data so columns 'one' and 'two' are stacked\n",
    "my_df = pd.DataFrame(d)\n",
    "my_df.plot(kind='bar',stacked=True,title=\"The title of my graph\");"
   ]
  },
  {
   "cell_type": "markdown",
   "metadata": {},
   "source": [
    "*  You can use the .unstack() method to transform grouped data into columns for each plotting. Try running `.unstack()` on some DataFrames above and see what it yields.\n",
    "\n",
    "Start by transforming the grouped data (by plot and sex) into an unstacked layout, then create a stacked plot."
   ]
  },
  {
   "cell_type": "code",
   "execution_count": 11,
   "metadata": {},
   "outputs": [
    {
     "data": {
      "text/plain": [
       "plot_id  sex\n",
       "1        F      38253.0\n",
       "         M      59979.0\n",
       "2        F      50144.0\n",
       "         M      57250.0\n",
       "3        F      27251.0\n",
       "         M      28253.0\n",
       "4        F      39796.0\n",
       "         M      49377.0\n",
       "5        F      21143.0\n",
       "         M      23326.0\n",
       "6        F      26210.0\n",
       "         M      27245.0\n",
       "7        F       6522.0\n",
       "         M       6422.0\n",
       "8        F      37274.0\n",
       "         M      47755.0\n",
       "9        F      44128.0\n",
       "         M      48727.0\n",
       "10       F       2359.0\n",
       "         M       2776.0\n",
       "11       F      34638.0\n",
       "         M      43106.0\n",
       "12       F      51825.0\n",
       "         M      57420.0\n",
       "13       F      24720.0\n",
       "         M      30354.0\n",
       "14       F      32770.0\n",
       "         M      46469.0\n",
       "15       F      12455.0\n",
       "         M      11037.0\n",
       "16       F       5446.0\n",
       "         M       6310.0\n",
       "17       F      42106.0\n",
       "         M      48082.0\n",
       "18       F      27353.0\n",
       "         M      26433.0\n",
       "19       F      11297.0\n",
       "         M      11514.0\n",
       "20       F      33206.0\n",
       "         M      25988.0\n",
       "21       F      15481.0\n",
       "         M       9815.0\n",
       "22       F      34656.0\n",
       "         M      35363.0\n",
       "23       F       3352.0\n",
       "         M       3883.0\n",
       "24       F      22951.0\n",
       "         M      18835.0\n",
       "Name: weight, dtype: float64"
      ]
     },
     "execution_count": 11,
     "metadata": {},
     "output_type": "execute_result"
    }
   ],
   "source": [
    "#Group data by plot and by sex, and then calculate a sum of weights for each plot.\n",
    "by_plot_sex = surveys_df.groupby(['plot_id','sex'])\n",
    "plot_sex_count = by_plot_sex['weight'].sum()\n",
    "plot_sex_count"
   ]
  },
  {
   "cell_type": "markdown",
   "metadata": {},
   "source": [
    "Below we’ll use `.unstack()` on our grouped data to figure out the total weight that each sex contributed to each plot."
   ]
  },
  {
   "cell_type": "code",
   "execution_count": 12,
   "metadata": {},
   "outputs": [
    {
     "data": {
      "text/html": [
       "<div>\n",
       "<style scoped>\n",
       "    .dataframe tbody tr th:only-of-type {\n",
       "        vertical-align: middle;\n",
       "    }\n",
       "\n",
       "    .dataframe tbody tr th {\n",
       "        vertical-align: top;\n",
       "    }\n",
       "\n",
       "    .dataframe thead th {\n",
       "        text-align: right;\n",
       "    }\n",
       "</style>\n",
       "<table border=\"1\" class=\"dataframe\">\n",
       "  <thead>\n",
       "    <tr style=\"text-align: right;\">\n",
       "      <th>sex</th>\n",
       "      <th>F</th>\n",
       "      <th>M</th>\n",
       "    </tr>\n",
       "    <tr>\n",
       "      <th>plot_id</th>\n",
       "      <th></th>\n",
       "      <th></th>\n",
       "    </tr>\n",
       "  </thead>\n",
       "  <tbody>\n",
       "    <tr>\n",
       "      <th>1</th>\n",
       "      <td>38253.0</td>\n",
       "      <td>59979.0</td>\n",
       "    </tr>\n",
       "    <tr>\n",
       "      <th>2</th>\n",
       "      <td>50144.0</td>\n",
       "      <td>57250.0</td>\n",
       "    </tr>\n",
       "    <tr>\n",
       "      <th>3</th>\n",
       "      <td>27251.0</td>\n",
       "      <td>28253.0</td>\n",
       "    </tr>\n",
       "    <tr>\n",
       "      <th>4</th>\n",
       "      <td>39796.0</td>\n",
       "      <td>49377.0</td>\n",
       "    </tr>\n",
       "    <tr>\n",
       "      <th>5</th>\n",
       "      <td>21143.0</td>\n",
       "      <td>23326.0</td>\n",
       "    </tr>\n",
       "  </tbody>\n",
       "</table>\n",
       "</div>"
      ],
      "text/plain": [
       "sex            F        M\n",
       "plot_id                  \n",
       "1        38253.0  59979.0\n",
       "2        50144.0  57250.0\n",
       "3        27251.0  28253.0\n",
       "4        39796.0  49377.0\n",
       "5        21143.0  23326.0"
      ]
     },
     "execution_count": 12,
     "metadata": {},
     "output_type": "execute_result"
    }
   ],
   "source": [
    "by_plot_sex = surveys_df.groupby(['plot_id','sex'])\n",
    "plot_sex_count = by_plot_sex['weight'].sum()\n",
    "dfPlotSex = plot_sex_count.unstack()\n",
    "dfPlotSex.head()"
   ]
  },
  {
   "cell_type": "markdown",
   "metadata": {},
   "source": [
    "Now, create a stacked bar plot with that data where the weights for each sex are stacked by plot.\n",
    "\n",
    "Rather than display it as a table, we can plot the above data by stacking the values of each sex as follows:"
   ]
  },
  {
   "cell_type": "code",
   "execution_count": 13,
   "metadata": {},
   "outputs": [
    {
     "data": {
      "image/png": "[encoded data removed]",
      "text/plain": [
       "<Figure size 432x288 with 1 Axes>"
      ]
     },
     "metadata": {
      "needs_background": "light"
     },
     "output_type": "display_data"
    }
   ],
   "source": [
    "s_plot = dfPlotSex.plot(kind='bar',stacked=True,title=\"Total weight by plot and sex\")\n",
    "s_plot.set_ylabel(\"Weight\")\n",
    "s_plot.set_xlabel(\"Plot\");"
   ]
  },
  {
   "cell_type": "code",
   "execution_count": null,
   "metadata": {},
   "outputs": [],
   "source": []
  }
 ],
 "metadata": {
  "kernelspec": {
   "display_name": "Python 3",
   "language": "python",
   "name": "python3"
  },
  "language_info": {
   "codemirror_mode": {
    "name": "ipython",
    "version": 3
   },
   "file_extension": ".py",
   "mimetype": "text/x-python",
   "name": "python",
   "nbconvert_exporter": "python",
   "pygments_lexer": "ipython3",
   "version": "3.7.10"
  }
 },
 "nbformat": 4,
 "nbformat_minor": 2
}
